{
  "nbformat": 4,
  "nbformat_minor": 0,
  "metadata": {
    "colab": {
      "provenance": []
    },
    "kernelspec": {
      "name": "python3",
      "display_name": "Python 3"
    },
    "language_info": {
      "name": "python"
    }
  },
  "cells": [
    {
      "cell_type": "markdown",
      "source": [
        "https://steam.oxxostudio.tw/category/python/example/image-watermark.html\n"
      ],
      "metadata": {
        "id": "NK9OKenI4znJ"
      }
    },
    {
      "cell_type": "code",
      "execution_count": 1,
      "metadata": {
        "colab": {
          "base_uri": "https://localhost:8080/"
        },
        "id": "9pyUFAsP4qtm",
        "outputId": "321988ce-85d9-48f6-cf04-a68e5aa39fd4"
      },
      "outputs": [
        {
          "output_type": "stream",
          "name": "stdout",
          "text": [
            "Requirement already satisfied: Pillow in /usr/local/lib/python3.10/dist-packages (11.0.0)\n"
          ]
        }
      ],
      "source": [
        "!pip install Pillow"
      ]
    },
    {
      "cell_type": "code",
      "source": [
        "from PIL import Image\n",
        "img = Image.open('./watermark-photo.jpg')    # 開啟風景圖\n",
        "icon = Image.open('./watermark-icon.png')   # 開啟浮水印 icon\n",
        "img.paste(icon, (0,0), icon)     # 將風景圖貼上 icon\n",
        "img.save('./ok.jpg')             # 存檔為 ok.jpg"
      ],
      "metadata": {
        "id": "e1PMoEjv5hbJ"
      },
      "execution_count": 3,
      "outputs": []
    },
    {
      "cell_type": "code",
      "source": [
        "img_w, img_h = img.size      # 取得風景圖尺寸\n",
        "icon_w, icon_h = icon.size   # 取得 icon 尺寸\n",
        "x = int((img_w-icon_w)/2)    # 計算置中時 icon 左上角的 x 座標\n",
        "y = int((img_h-icon_h)/2)    # 計算置中時 icon 左上角的 y 座標\n",
        "\n",
        "img.paste(icon, (x, y), icon)   # 設定 icon 左上角座標\n",
        "img.save('./ok2.jpg')"
      ],
      "metadata": {
        "id": "iofGjuVk6cra"
      },
      "execution_count": 4,
      "outputs": []
    }
  ]
}